{
 "cells": [
  {
   "cell_type": "code",
   "execution_count": 2,
   "id": "6e64606b",
   "metadata": {},
   "outputs": [],
   "source": [
    "import os\n",
    "from xml.etree import ElementTree\n",
    "\n",
    "def convert_to_yolo(xml_folder, output_folder):\n",
    "    if not os.path.exists(output_folder):\n",
    "        os.makedirs(output_folder)\n",
    "\n",
    "    for xml_file in os.listdir(xml_folder):\n",
    "        if xml_file.endswith('.xml'):\n",
    "            tree = ElementTree.parse(os.path.join(xml_folder, xml_file))\n",
    "            root = tree.getroot()\n",
    "            \n",
    "            size = root.find('size')\n",
    "            image_width = int(size.find('width').text)\n",
    "            image_height = int(size.find('height').text)\n",
    "\n",
    "            yolo_annotations = []\n",
    "            for obj in root.findall('object'):\n",
    "                bndbox = obj.find('bndbox')\n",
    "                xmin = int(bndbox.find('xmin').text)\n",
    "                ymin = int(bndbox.find('ymin').text)\n",
    "                xmax = int(bndbox.find('xmax').text)\n",
    "                ymax = int(bndbox.find('ymax').text)\n",
    "\n",
    "                x_center = (xmin + xmax) / 2\n",
    "                y_center = (ymin + ymax) / 2\n",
    "                width = xmax - xmin\n",
    "                height = ymax - ymin\n",
    "\n",
    "                x_center_normalized = x_center / image_width\n",
    "                y_center_normalized = y_center / image_height\n",
    "                width_normalized = width / image_width\n",
    "                height_normalized = height / image_height\n",
    "\n",
    "                yolo_annotations.append(f\"0 {x_center_normalized} {y_center_normalized} {width_normalized} {height_normalized}\")\n",
    "\n",
    "            with open(os.path.join(output_folder, os.path.splitext(xml_file)[0] + '.txt'), 'w') as f:\n",
    "                f.write(\"\\n\".join(yolo_annotations))\n",
    "\n",
    "# Specify the paths to your XML folder and output folder here\n",
    "xml_folder = 'src/xml'\n",
    "output_folder = 'src/yolo'\n",
    "\n",
    "convert_to_yolo(xml_folder, output_folder)\n"
   ]
  }
 ],
 "metadata": {
  "kernelspec": {
   "display_name": "Python 3 (ipykernel)",
   "language": "python",
   "name": "python3"
  },
  "language_info": {
   "codemirror_mode": {
    "name": "ipython",
    "version": 3
   },
   "file_extension": ".py",
   "mimetype": "text/x-python",
   "name": "python",
   "nbconvert_exporter": "python",
   "pygments_lexer": "ipython3",
   "version": "3.11.4"
  }
 },
 "nbformat": 4,
 "nbformat_minor": 5
}
